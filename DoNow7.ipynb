{
 "cells": [
  {
   "cell_type": "markdown",
   "metadata": {},
   "source": [
    "Whatdoes Refine call searching for text in a column?"
   ]
  },
  {
   "cell_type": "raw",
   "metadata": {},
   "source": [
    "Filter (specifically Text Filter"
   ]
  },
  {
   "cell_type": "markdown",
   "metadata": {},
   "source": []
  },
  {
   "cell_type": "markdown",
   "metadata": {},
   "source": [
    " What does Refine call examining all the values that appear in a column?\n",
    " **Facets** -specifically text facets"
   ]
  },
  {
   "cell_type": "markdown",
   "metadata": {},
   "source": [
    "When you add a new file into the folder you're tracking with git, it doesn't get automatically placed into the repository. What's the command to make that happen?\n",
    "- git add filename.ipynb"
   ]
  },
  {
   "cell_type": "markdown",
   "metadata": {},
   "source": [
    " There are two more steps to go through with the file. One saves your changes to the repo, one sends them up to GitHub. What are they?\n",
    "\n",
    "- git commit -m \"Here is a message\" to save your changes to the repository \n",
    "- git push to send it up to github\n",
    "- git push -u origin master   the first time , but after that the '-u' saves it"
   ]
  },
  {
   "cell_type": "code",
   "execution_count": 1,
   "metadata": {
    "collapsed": true
   },
   "outputs": [],
   "source": [
    "companies = [ { 'company': 'ExxonMobil', 'fine': 4500, 'date': '2011-01-02' },\n",
    "{ 'company':'BP', 'fine': 320, 'date': '2012-02-12' },\n",
    "{ 'company': 'ExxonMobil', 'fine': 7200, 'date': '2012-04-09' },\n",
    "{ 'company': 'Chevron', 'fine': 80000, 'date': '2011-01-02' } ]"
   ]
  },
  {
   "cell_type": "markdown",
   "metadata": {},
   "source": [
    "What's the data type of the above?\n",
    "- Alist of dictionaries"
   ]
  },
  {
   "cell_type": "markdown",
   "metadata": {},
   "source": [
    "Count the number of times Chevron appears in the list. Tip: list comprehensions are your friend"
   ]
  },
  {
   "cell_type": "code",
   "execution_count": 2,
   "metadata": {
    "collapsed": true
   },
   "outputs": [],
   "source": [
    "companies = [ { 'company': 'ExxonMobil', 'fine': 4500, 'date': '2011-01-02' },\n",
    "{ 'company':'BP', 'fine': 320, 'date': '2012-02-12' },\n",
    "{ 'company': 'ExxonMobil', 'fine': 7200, 'date': '2012-04-09' },\n",
    "{ 'company': 'Chevron', 'fine': 80000, 'date': '2011-01-02' } ]\n",
    "\n",
    "company_names = [comp['company'] for comp in companies]"
   ]
  },
  {
   "cell_type": "code",
   "execution_count": 7,
   "metadata": {
    "collapsed": false
   },
   "outputs": [
    {
     "data": {
      "text/plain": [
       "['ExxonMobil', 'BP', 'ExxonMobil', 'Chevron']"
      ]
     },
     "execution_count": 7,
     "metadata": {},
     "output_type": "execute_result"
    }
   ],
   "source": [
    "company_names"
   ]
  },
  {
   "cell_type": "markdown",
   "metadata": {},
   "source": [
    "Sum up the fines that were from ExxonMobil. Tip: You can put conditions in a list comprehension! See the rather confusing but possibly helpful code below."
   ]
  },
  {
   "cell_type": "code",
   "execution_count": 13,
   "metadata": {
    "collapsed": false
   },
   "outputs": [],
   "source": [
    "bb = [comp['company'] for comp in companies if comp['company'] == 'ExxonMobil']"
   ]
  },
  {
   "cell_type": "code",
   "execution_count": 18,
   "metadata": {
    "collapsed": false
   },
   "outputs": [
    {
     "name": "stdout",
     "output_type": "stream",
     "text": [
      "2\n"
     ]
    }
   ],
   "source": [
    "print len(bb)"
   ]
  },
  {
   "cell_type": "code",
   "execution_count": null,
   "metadata": {
    "collapsed": true
   },
   "outputs": [],
   "source": []
  },
  {
   "cell_type": "code",
   "execution_count": null,
   "metadata": {
    "collapsed": true
   },
   "outputs": [],
   "source": []
  }
 ],
 "metadata": {
  "kernelspec": {
   "display_name": "Python 2",
   "language": "python",
   "name": "python2"
  },
  "language_info": {
   "codemirror_mode": {
    "name": "ipython",
    "version": 2
   },
   "file_extension": ".py",
   "mimetype": "text/x-python",
   "name": "python",
   "nbconvert_exporter": "python",
   "pygments_lexer": "ipython2",
   "version": "2.7.9"
  }
 },
 "nbformat": 4,
 "nbformat_minor": 0
}
